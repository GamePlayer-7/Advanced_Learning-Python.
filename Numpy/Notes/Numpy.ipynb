Numpy arrays come in 2 types :

    1. Vectors -> 1-D arrays.
    2. Matrices -> 2-D ( Matrix still have 1 row or one column).

* Linspace takes 3rd argument as no. of points you want.
